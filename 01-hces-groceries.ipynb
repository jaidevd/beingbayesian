{
 "cells": [
  {
   "cell_type": "code",
   "execution_count": 2,
   "id": "b5c409ca-8ad9-418a-aebf-1e6eaa529601",
   "metadata": {
    "tags": []
   },
   "outputs": [],
   "source": [
    "import pandas as pd\n",
    "import matplotlib.pyplot as plt"
   ]
  },
  {
   "cell_type": "markdown",
   "id": "23086e38-84bc-4728-a792-62feceafb8a3",
   "metadata": {},
   "source": [
    "## Questions\n",
    "\n",
    "1. How many households use online payments or purchase groceries online?\n",
    "2. What are the characteristics of those that do?\n",
    "3. Those which don't, what are they like?"
   ]
  },
  {
   "cell_type": "code",
   "execution_count": 3,
   "id": "b9c1d3a3-2c08-4b71-876e-0c0089c92f93",
   "metadata": {
    "tags": []
   },
   "outputs": [
    {
     "data": {
      "text/html": [
       "<div>\n",
       "<style scoped>\n",
       "    .dataframe tbody tr th:only-of-type {\n",
       "        vertical-align: middle;\n",
       "    }\n",
       "\n",
       "    .dataframe tbody tr th {\n",
       "        vertical-align: top;\n",
       "    }\n",
       "\n",
       "    .dataframe thead th {\n",
       "        text-align: right;\n",
       "    }\n",
       "</style>\n",
       "<table border=\"1\" class=\"dataframe\">\n",
       "  <thead>\n",
       "    <tr style=\"text-align: right;\">\n",
       "      <th></th>\n",
       "      <th>used_ration_card</th>\n",
       "      <th>procured_rice</th>\n",
       "      <th>procured_wheat</th>\n",
       "      <th>procured_grain</th>\n",
       "      <th>procured_sugar</th>\n",
       "      <th>procured_pulses</th>\n",
       "      <th>procured_edible_oil</th>\n",
       "      <th>procured_other</th>\n",
       "      <th>online_groceries</th>\n",
       "      <th>online_milkprod</th>\n",
       "      <th>online_veg</th>\n",
       "      <th>online_fruits</th>\n",
       "      <th>online_dryfruits</th>\n",
       "      <th>online_eggfishmeat</th>\n",
       "      <th>online_processed_served</th>\n",
       "      <th>online_processed_packed</th>\n",
       "      <th>online_other</th>\n",
       "      <th>performed_ceremony</th>\n",
       "      <th>meals_served_to_nonhh</th>\n",
       "      <th>multiplier</th>\n",
       "    </tr>\n",
       "    <tr>\n",
       "      <th>hhid</th>\n",
       "      <th></th>\n",
       "      <th></th>\n",
       "      <th></th>\n",
       "      <th></th>\n",
       "      <th></th>\n",
       "      <th></th>\n",
       "      <th></th>\n",
       "      <th></th>\n",
       "      <th></th>\n",
       "      <th></th>\n",
       "      <th></th>\n",
       "      <th></th>\n",
       "      <th></th>\n",
       "      <th></th>\n",
       "      <th></th>\n",
       "      <th></th>\n",
       "      <th></th>\n",
       "      <th></th>\n",
       "      <th></th>\n",
       "      <th></th>\n",
       "    </tr>\n",
       "  </thead>\n",
       "  <tbody>\n",
       "    <tr>\n",
       "      <th>22300101</th>\n",
       "      <td>no</td>\n",
       "      <td>False</td>\n",
       "      <td>False</td>\n",
       "      <td>False</td>\n",
       "      <td>False</td>\n",
       "      <td>False</td>\n",
       "      <td>False</td>\n",
       "      <td>False</td>\n",
       "      <td>False</td>\n",
       "      <td>False</td>\n",
       "      <td>False</td>\n",
       "      <td>False</td>\n",
       "      <td>False</td>\n",
       "      <td>False</td>\n",
       "      <td>False</td>\n",
       "      <td>False</td>\n",
       "      <td>False</td>\n",
       "      <td>no</td>\n",
       "      <td>5</td>\n",
       "      <td>57436</td>\n",
       "    </tr>\n",
       "    <tr>\n",
       "      <th>22300201</th>\n",
       "      <td>no</td>\n",
       "      <td>False</td>\n",
       "      <td>False</td>\n",
       "      <td>False</td>\n",
       "      <td>False</td>\n",
       "      <td>False</td>\n",
       "      <td>False</td>\n",
       "      <td>False</td>\n",
       "      <td>False</td>\n",
       "      <td>False</td>\n",
       "      <td>False</td>\n",
       "      <td>False</td>\n",
       "      <td>False</td>\n",
       "      <td>False</td>\n",
       "      <td>False</td>\n",
       "      <td>True</td>\n",
       "      <td>False</td>\n",
       "      <td>no</td>\n",
       "      <td>3</td>\n",
       "      <td>27497</td>\n",
       "    </tr>\n",
       "    <tr>\n",
       "      <th>22300202</th>\n",
       "      <td>no</td>\n",
       "      <td>False</td>\n",
       "      <td>False</td>\n",
       "      <td>False</td>\n",
       "      <td>False</td>\n",
       "      <td>False</td>\n",
       "      <td>False</td>\n",
       "      <td>False</td>\n",
       "      <td>False</td>\n",
       "      <td>False</td>\n",
       "      <td>False</td>\n",
       "      <td>False</td>\n",
       "      <td>False</td>\n",
       "      <td>False</td>\n",
       "      <td>False</td>\n",
       "      <td>False</td>\n",
       "      <td>False</td>\n",
       "      <td>no</td>\n",
       "      <td>2</td>\n",
       "      <td>27497</td>\n",
       "    </tr>\n",
       "    <tr>\n",
       "      <th>22300203</th>\n",
       "      <td>no</td>\n",
       "      <td>False</td>\n",
       "      <td>False</td>\n",
       "      <td>False</td>\n",
       "      <td>False</td>\n",
       "      <td>False</td>\n",
       "      <td>False</td>\n",
       "      <td>False</td>\n",
       "      <td>False</td>\n",
       "      <td>False</td>\n",
       "      <td>False</td>\n",
       "      <td>False</td>\n",
       "      <td>False</td>\n",
       "      <td>False</td>\n",
       "      <td>False</td>\n",
       "      <td>False</td>\n",
       "      <td>False</td>\n",
       "      <td>no</td>\n",
       "      <td>3</td>\n",
       "      <td>27497</td>\n",
       "    </tr>\n",
       "    <tr>\n",
       "      <th>22300204</th>\n",
       "      <td>no</td>\n",
       "      <td>False</td>\n",
       "      <td>False</td>\n",
       "      <td>False</td>\n",
       "      <td>False</td>\n",
       "      <td>False</td>\n",
       "      <td>False</td>\n",
       "      <td>False</td>\n",
       "      <td>False</td>\n",
       "      <td>False</td>\n",
       "      <td>False</td>\n",
       "      <td>False</td>\n",
       "      <td>False</td>\n",
       "      <td>False</td>\n",
       "      <td>False</td>\n",
       "      <td>True</td>\n",
       "      <td>False</td>\n",
       "      <td>no</td>\n",
       "      <td>3</td>\n",
       "      <td>27497</td>\n",
       "    </tr>\n",
       "  </tbody>\n",
       "</table>\n",
       "</div>"
      ],
      "text/plain": [
       "         used_ration_card  procured_rice  procured_wheat  procured_grain  \\\n",
       "hhid                                                                       \n",
       "22300101               no          False           False           False   \n",
       "22300201               no          False           False           False   \n",
       "22300202               no          False           False           False   \n",
       "22300203               no          False           False           False   \n",
       "22300204               no          False           False           False   \n",
       "\n",
       "          procured_sugar  procured_pulses  procured_edible_oil  \\\n",
       "hhid                                                             \n",
       "22300101           False            False                False   \n",
       "22300201           False            False                False   \n",
       "22300202           False            False                False   \n",
       "22300203           False            False                False   \n",
       "22300204           False            False                False   \n",
       "\n",
       "          procured_other  online_groceries  online_milkprod  online_veg  \\\n",
       "hhid                                                                      \n",
       "22300101           False             False            False       False   \n",
       "22300201           False             False            False       False   \n",
       "22300202           False             False            False       False   \n",
       "22300203           False             False            False       False   \n",
       "22300204           False             False            False       False   \n",
       "\n",
       "          online_fruits  online_dryfruits  online_eggfishmeat  \\\n",
       "hhid                                                            \n",
       "22300101          False             False               False   \n",
       "22300201          False             False               False   \n",
       "22300202          False             False               False   \n",
       "22300203          False             False               False   \n",
       "22300204          False             False               False   \n",
       "\n",
       "          online_processed_served  online_processed_packed  online_other  \\\n",
       "hhid                                                                       \n",
       "22300101                    False                    False         False   \n",
       "22300201                    False                     True         False   \n",
       "22300202                    False                    False         False   \n",
       "22300203                    False                    False         False   \n",
       "22300204                    False                     True         False   \n",
       "\n",
       "         performed_ceremony  meals_served_to_nonhh  multiplier  \n",
       "hhid                                                            \n",
       "22300101                 no                      5       57436  \n",
       "22300201                 no                      3       27497  \n",
       "22300202                 no                      2       27497  \n",
       "22300203                 no                      3       27497  \n",
       "22300204                 no                      3       27497  "
      ]
     },
     "execution_count": 3,
     "metadata": {},
     "output_type": "execute_result"
    }
   ],
   "source": [
    "df = pd.read_parquet('../hces-2023-24/data/sec-4.1-FDQ.parquet')\n",
    "df.head()"
   ]
  },
  {
   "cell_type": "code",
   "execution_count": 11,
   "id": "3d5f9e92-9d9a-4c31-a80d-df4b9806ebca",
   "metadata": {
    "tags": []
   },
   "outputs": [
    {
     "data": {
      "text/plain": [
       "<Axes: >"
      ]
     },
     "execution_count": 11,
     "metadata": {},
     "output_type": "execute_result"
    },
    {
     "data": {
      "image/png": "[encoded data removed]",
      "text/plain": [
       "<Figure size 640x480 with 1 Axes>"
      ]
     },
     "metadata": {},
     "output_type": "display_data"
    }
   ],
   "source": [
    "ol = [c for c in df if c.startswith('online_')]\n",
    "scores = (df[ol].astype(int).values * df['multiplier'].values.reshape(-1, 1)).sum(axis=0) / df['multiplier'].sum()\n",
    "pc_online = pd.Series(scores, index=ol).sort_values(ascending=False) * 100\n",
    "\n",
    "pc_online.plot(kind='barh')"
   ]
  },
  {
   "cell_type": "code",
   "execution_count": 24,
   "id": "b840e43b-65a5-4119-a38f-2b098746bb5e",
   "metadata": {
    "tags": []
   },
   "outputs": [
    {
     "data": {
      "text/plain": [
       "0.07095912262731743"
      ]
     },
     "execution_count": 24,
     "metadata": {},
     "output_type": "execute_result"
    }
   ],
   "source": [
    "# What proportion of household used _any_ online shopping?\n",
    "any_ol = df.index[df[ol].astype(int).sum(axis=1).astype(bool).values]\n",
    "df.loc[any_ol, 'multiplier'].sum() / df['multiplier'].sum()"
   ]
  },
  {
   "cell_type": "code",
   "execution_count": 26,
   "id": "d3010e1d-158b-459d-a8d5-e9f8f102af5b",
   "metadata": {
    "tags": []
   },
   "outputs": [],
   "source": [
    "hdf = pd.read_parquet('../hces-2023-24/data/sec-1-HCQ.parquet')\n",
    "hdf['online'] = False\n",
    "hdf.loc[any_ol, 'online'] = True"
   ]
  },
  {
   "cell_type": "code",
   "execution_count": 37,
   "id": "16c87d02-fbcc-4cda-a761-884706ab5bcd",
   "metadata": {},
   "outputs": [
    {
     "data": {
      "text/html": [
       "<div>\n",
       "<style scoped>\n",
       "    .dataframe tbody tr th:only-of-type {\n",
       "        vertical-align: middle;\n",
       "    }\n",
       "\n",
       "    .dataframe tbody tr th {\n",
       "        vertical-align: top;\n",
       "    }\n",
       "\n",
       "    .dataframe thead th {\n",
       "        text-align: right;\n",
       "    }\n",
       "</style>\n",
       "<table border=\"1\" class=\"dataframe\">\n",
       "  <thead>\n",
       "    <tr style=\"text-align: right;\">\n",
       "      <th>online</th>\n",
       "      <th>False</th>\n",
       "      <th>True</th>\n",
       "    </tr>\n",
       "    <tr>\n",
       "      <th>sector</th>\n",
       "      <th></th>\n",
       "      <th></th>\n",
       "    </tr>\n",
       "  </thead>\n",
       "  <tbody>\n",
       "    <tr>\n",
       "      <th>rural</th>\n",
       "      <td>0.647937</td>\n",
       "      <td>0.016454</td>\n",
       "    </tr>\n",
       "    <tr>\n",
       "      <th>urban</th>\n",
       "      <td>0.281103</td>\n",
       "      <td>0.054505</td>\n",
       "    </tr>\n",
       "  </tbody>\n",
       "</table>\n",
       "</div>"
      ],
      "text/plain": [
       "online     False     True \n",
       "sector                    \n",
       "rural   0.647937  0.016454\n",
       "urban   0.281103  0.054505"
      ]
     },
     "execution_count": 37,
     "metadata": {},
     "output_type": "execute_result"
    }
   ],
   "source": [
    "# Weighted cross-tabulation using sample weights\n",
    "xx = pd.crosstab(hdf['sector'], hdf['online'], values=hdf['multiplier'], aggfunc='sum') / hdf['multiplier'].sum()\n",
    "xx"
   ]
  },
  {
   "cell_type": "code",
   "execution_count": 40,
   "id": "81489c16-7720-4336-905c-055faa782c58",
   "metadata": {
    "tags": []
   },
   "outputs": [
    {
     "data": {
      "text/plain": [
       "sector\n",
       "rural    0.231884\n",
       "urban    0.768116\n",
       "Name: multiplier, dtype: float64"
      ]
     },
     "execution_count": 40,
     "metadata": {},
     "output_type": "execute_result"
    }
   ],
   "source": [
    "ohdf = hdf[hdf['online']]\n",
    "ohdf.groupby('sector')['multiplier'].sum() / ohdf['multiplier'].sum()"
   ]
  },
  {
   "cell_type": "code",
   "execution_count": 42,
   "id": "ddb24cd6-03bf-43f6-a67f-82355c812deb",
   "metadata": {
    "tags": []
   },
   "outputs": [],
   "source": [
    "# Almost three quarters of online shoppers are in cities!"
   ]
  },
  {
   "cell_type": "code",
   "execution_count": 43,
   "id": "82b80bcc-7437-4604-af1b-c9a4390a65fe",
   "metadata": {
    "tags": []
   },
   "outputs": [
    {
     "data": {
      "text/html": [
       "<div>\n",
       "<style scoped>\n",
       "    .dataframe tbody tr th:only-of-type {\n",
       "        vertical-align: middle;\n",
       "    }\n",
       "\n",
       "    .dataframe tbody tr th {\n",
       "        vertical-align: top;\n",
       "    }\n",
       "\n",
       "    .dataframe thead th {\n",
       "        text-align: right;\n",
       "    }\n",
       "</style>\n",
       "<table border=\"1\" class=\"dataframe\">\n",
       "  <thead>\n",
       "    <tr style=\"text-align: right;\">\n",
       "      <th></th>\n",
       "      <th>sector</th>\n",
       "      <th>state</th>\n",
       "      <th>district</th>\n",
       "      <th>multiplier</th>\n",
       "      <th>state_name</th>\n",
       "      <th>district_name</th>\n",
       "      <th>online</th>\n",
       "    </tr>\n",
       "    <tr>\n",
       "      <th>hhid</th>\n",
       "      <th></th>\n",
       "      <th></th>\n",
       "      <th></th>\n",
       "      <th></th>\n",
       "      <th></th>\n",
       "      <th></th>\n",
       "      <th></th>\n",
       "    </tr>\n",
       "  </thead>\n",
       "  <tbody>\n",
       "    <tr>\n",
       "      <th>46781312</th>\n",
       "      <td>rural</td>\n",
       "      <td>2</td>\n",
       "      <td>2</td>\n",
       "      <td>226490</td>\n",
       "      <td>Himachal Pradesh</td>\n",
       "      <td>Kangra</td>\n",
       "      <td>True</td>\n",
       "    </tr>\n",
       "    <tr>\n",
       "      <th>46781315</th>\n",
       "      <td>rural</td>\n",
       "      <td>2</td>\n",
       "      <td>2</td>\n",
       "      <td>226490</td>\n",
       "      <td>Himachal Pradesh</td>\n",
       "      <td>Kangra</td>\n",
       "      <td>True</td>\n",
       "    </tr>\n",
       "    <tr>\n",
       "      <th>46376201</th>\n",
       "      <td>rural</td>\n",
       "      <td>3</td>\n",
       "      <td>5</td>\n",
       "      <td>29147</td>\n",
       "      <td>Punjab</td>\n",
       "      <td>ShahidBhagat</td>\n",
       "      <td>True</td>\n",
       "    </tr>\n",
       "    <tr>\n",
       "      <th>46377309</th>\n",
       "      <td>rural</td>\n",
       "      <td>3</td>\n",
       "      <td>3</td>\n",
       "      <td>56445</td>\n",
       "      <td>Punjab</td>\n",
       "      <td>Jalandhar</td>\n",
       "      <td>True</td>\n",
       "    </tr>\n",
       "    <tr>\n",
       "      <th>46375202</th>\n",
       "      <td>rural</td>\n",
       "      <td>3</td>\n",
       "      <td>5</td>\n",
       "      <td>40358</td>\n",
       "      <td>Punjab</td>\n",
       "      <td>ShahidBhagat</td>\n",
       "      <td>True</td>\n",
       "    </tr>\n",
       "  </tbody>\n",
       "</table>\n",
       "</div>"
      ],
      "text/plain": [
       "         sector  state  district  multiplier        state_name district_name  \\\n",
       "hhid                                                                           \n",
       "46781312  rural      2         2      226490  Himachal Pradesh        Kangra   \n",
       "46781315  rural      2         2      226490  Himachal Pradesh        Kangra   \n",
       "46376201  rural      3         5       29147            Punjab  ShahidBhagat   \n",
       "46377309  rural      3         3       56445            Punjab     Jalandhar   \n",
       "46375202  rural      3         5       40358            Punjab  ShahidBhagat   \n",
       "\n",
       "          online  \n",
       "hhid              \n",
       "46781312    True  \n",
       "46781315    True  \n",
       "46376201    True  \n",
       "46377309    True  \n",
       "46375202    True  "
      ]
     },
     "execution_count": 43,
     "metadata": {},
     "output_type": "execute_result"
    }
   ],
   "source": [
    "ohdf.head()"
   ]
  },
  {
   "cell_type": "code",
   "execution_count": 47,
   "id": "849b1b74-37b7-4526-b9f3-324576474402",
   "metadata": {
    "tags": []
   },
   "outputs": [
    {
     "data": {
      "text/plain": [
       "state_name\n",
       "Karnataka                             0.145341\n",
       "Maharashtra                           0.138371\n",
       "Delhi                                 0.138311\n",
       "Telangana                             0.109858\n",
       "Uttar Pradesh                         0.076688\n",
       "West Bengal                           0.051229\n",
       "Tamil Nadu                            0.048477\n",
       "Gujarat                               0.039352\n",
       "Kerala                                0.033928\n",
       "Haryana                               0.032764\n",
       "Madhya Pradesh                        0.031359\n",
       "Bihar                                 0.029518\n",
       "Punjab                                0.022692\n",
       "Rajasthan                             0.017322\n",
       "Chhattisgarh                          0.014351\n",
       "Uttarakhand                           0.013310\n",
       "Andhra Pradesh                        0.012119\n",
       "Jharkhand                             0.010649\n",
       "Assam                                 0.008975\n",
       "Chandigarh                            0.008105\n",
       "Odisha                                0.005934\n",
       "Manipur                               0.002710\n",
       "Mizoram                               0.001755\n",
       "Arunachal Pradesh                     0.001613\n",
       "Goa                                   0.001067\n",
       "Sikkim                                0.000985\n",
       "Jammu & Kashmir                       0.000750\n",
       "Puducherry                            0.000468\n",
       "Tripura                               0.000435\n",
       "Himachal Pradesh                      0.000414\n",
       "Andaman & Nicobar                     0.000388\n",
       "Dadra & Nagar Haveli & Daman & Diu    0.000261\n",
       "Nagaland                              0.000235\n",
       "Ladakh                                0.000174\n",
       "Meghalaya                             0.000091\n",
       "Lakshadweep                           0.000003\n",
       "Name: multiplier, dtype: float64"
      ]
     },
     "execution_count": 47,
     "metadata": {},
     "output_type": "execute_result"
    }
   ],
   "source": [
    "state_online_pc = (ohdf.groupby('state_name')['multiplier'].sum() / ohdf['multiplier'].sum()).sort_values(ascending=False)\n",
    "state_online_pc"
   ]
  },
  {
   "cell_type": "code",
   "execution_count": 52,
   "id": "f80225ed-d347-41f6-9e2e-4efb159a5ceb",
   "metadata": {
    "tags": []
   },
   "outputs": [
    {
     "data": {
      "text/plain": [
       "0.5318813980905339"
      ]
     },
     "execution_count": 52,
     "metadata": {},
     "output_type": "execute_result"
    }
   ],
   "source": [
    "state_online_pc.head(4).sum()"
   ]
  },
  {
   "cell_type": "code",
   "execution_count": 53,
   "id": "508b8e18-437e-4b71-9ece-cba3a9056adc",
   "metadata": {
    "tags": []
   },
   "outputs": [],
   "source": [
    "# Half of the country's online grocery shopping is done in just four states - Karnataka, Maharashtra, Delhi and Telangana"
   ]
  },
  {
   "cell_type": "code",
   "execution_count": 54,
   "id": "2d03fca8-510b-48de-b541-d15bca969502",
   "metadata": {
    "tags": []
   },
   "outputs": [
    {
     "data": {
      "text/html": [
       "<div>\n",
       "<style scoped>\n",
       "    .dataframe tbody tr th:only-of-type {\n",
       "        vertical-align: middle;\n",
       "    }\n",
       "\n",
       "    .dataframe tbody tr th {\n",
       "        vertical-align: top;\n",
       "    }\n",
       "\n",
       "    .dataframe thead th {\n",
       "        text-align: right;\n",
       "    }\n",
       "</style>\n",
       "<table border=\"1\" class=\"dataframe\">\n",
       "  <thead>\n",
       "    <tr style=\"text-align: right;\">\n",
       "      <th></th>\n",
       "      <th></th>\n",
       "      <th>rel_to_hoh</th>\n",
       "      <th>gender</th>\n",
       "      <th>age</th>\n",
       "      <th>marital_status</th>\n",
       "      <th>edu_level</th>\n",
       "      <th>edu_years</th>\n",
       "      <th>used_internet</th>\n",
       "      <th>days_outside_home</th>\n",
       "      <th>meals_daily</th>\n",
       "      <th>meals_school</th>\n",
       "      <th>meals_employer</th>\n",
       "      <th>meals_others</th>\n",
       "      <th>meals_payment</th>\n",
       "      <th>meals_home</th>\n",
       "      <th>member_status</th>\n",
       "      <th>original_member</th>\n",
       "      <th>multiplier</th>\n",
       "    </tr>\n",
       "    <tr>\n",
       "      <th>hhid</th>\n",
       "      <th>person_id</th>\n",
       "      <th></th>\n",
       "      <th></th>\n",
       "      <th></th>\n",
       "      <th></th>\n",
       "      <th></th>\n",
       "      <th></th>\n",
       "      <th></th>\n",
       "      <th></th>\n",
       "      <th></th>\n",
       "      <th></th>\n",
       "      <th></th>\n",
       "      <th></th>\n",
       "      <th></th>\n",
       "      <th></th>\n",
       "      <th></th>\n",
       "      <th></th>\n",
       "      <th></th>\n",
       "    </tr>\n",
       "  </thead>\n",
       "  <tbody>\n",
       "    <tr>\n",
       "      <th rowspan=\"4\" valign=\"top\">22300101</th>\n",
       "      <th>3</th>\n",
       "      <td>unmarried child</td>\n",
       "      <td>male</td>\n",
       "      <td>23</td>\n",
       "      <td>never married</td>\n",
       "      <td>graduate</td>\n",
       "      <td>18.0</td>\n",
       "      <td>yes</td>\n",
       "      <td>0.0</td>\n",
       "      <td>3.0</td>\n",
       "      <td>NaN</td>\n",
       "      <td>NaN</td>\n",
       "      <td>NaN</td>\n",
       "      <td>3.0</td>\n",
       "      <td>87.0</td>\n",
       "      <td>1</td>\n",
       "      <td>1.0</td>\n",
       "      <td>57436</td>\n",
       "    </tr>\n",
       "    <tr>\n",
       "      <th>2</th>\n",
       "      <td>spouse</td>\n",
       "      <td>female</td>\n",
       "      <td>45</td>\n",
       "      <td>currently married</td>\n",
       "      <td>secondary</td>\n",
       "      <td>10.0</td>\n",
       "      <td>yes</td>\n",
       "      <td>0.0</td>\n",
       "      <td>3.0</td>\n",
       "      <td>NaN</td>\n",
       "      <td>NaN</td>\n",
       "      <td>3.0</td>\n",
       "      <td>NaN</td>\n",
       "      <td>87.0</td>\n",
       "      <td>1</td>\n",
       "      <td>1.0</td>\n",
       "      <td>57436</td>\n",
       "    </tr>\n",
       "    <tr>\n",
       "      <th>4</th>\n",
       "      <td>unmarried child</td>\n",
       "      <td>female</td>\n",
       "      <td>24</td>\n",
       "      <td>never married</td>\n",
       "      <td>post graduate and above</td>\n",
       "      <td>20.0</td>\n",
       "      <td>yes</td>\n",
       "      <td>0.0</td>\n",
       "      <td>3.0</td>\n",
       "      <td>NaN</td>\n",
       "      <td>NaN</td>\n",
       "      <td>NaN</td>\n",
       "      <td>4.0</td>\n",
       "      <td>86.0</td>\n",
       "      <td>1</td>\n",
       "      <td>1.0</td>\n",
       "      <td>57436</td>\n",
       "    </tr>\n",
       "    <tr>\n",
       "      <th>1</th>\n",
       "      <td>self</td>\n",
       "      <td>male</td>\n",
       "      <td>56</td>\n",
       "      <td>currently married</td>\n",
       "      <td>graduate</td>\n",
       "      <td>15.0</td>\n",
       "      <td>yes</td>\n",
       "      <td>0.0</td>\n",
       "      <td>3.0</td>\n",
       "      <td>NaN</td>\n",
       "      <td>NaN</td>\n",
       "      <td>NaN</td>\n",
       "      <td>3.0</td>\n",
       "      <td>87.0</td>\n",
       "      <td>1</td>\n",
       "      <td>1.0</td>\n",
       "      <td>57436</td>\n",
       "    </tr>\n",
       "    <tr>\n",
       "      <th>22300201</th>\n",
       "      <th>2</th>\n",
       "      <td>spouse</td>\n",
       "      <td>female</td>\n",
       "      <td>44</td>\n",
       "      <td>currently married</td>\n",
       "      <td>upper primary/middle</td>\n",
       "      <td>8.0</td>\n",
       "      <td>no</td>\n",
       "      <td>0.0</td>\n",
       "      <td>3.0</td>\n",
       "      <td>NaN</td>\n",
       "      <td>NaN</td>\n",
       "      <td>NaN</td>\n",
       "      <td>NaN</td>\n",
       "      <td>90.0</td>\n",
       "      <td>1</td>\n",
       "      <td>1.0</td>\n",
       "      <td>27497</td>\n",
       "    </tr>\n",
       "  </tbody>\n",
       "</table>\n",
       "</div>"
      ],
      "text/plain": [
       "                         rel_to_hoh  gender  age     marital_status  \\\n",
       "hhid     person_id                                                    \n",
       "22300101 3          unmarried child    male   23      never married   \n",
       "         2                   spouse  female   45  currently married   \n",
       "         4          unmarried child  female   24      never married   \n",
       "         1                     self    male   56  currently married   \n",
       "22300201 2                   spouse  female   44  currently married   \n",
       "\n",
       "                                  edu_level  edu_years used_internet  \\\n",
       "hhid     person_id                                                     \n",
       "22300101 3                         graduate       18.0           yes   \n",
       "         2                        secondary       10.0           yes   \n",
       "         4          post graduate and above       20.0           yes   \n",
       "         1                         graduate       15.0           yes   \n",
       "22300201 2             upper primary/middle        8.0            no   \n",
       "\n",
       "                    days_outside_home  meals_daily  meals_school  \\\n",
       "hhid     person_id                                                 \n",
       "22300101 3                        0.0          3.0           NaN   \n",
       "         2                        0.0          3.0           NaN   \n",
       "         4                        0.0          3.0           NaN   \n",
       "         1                        0.0          3.0           NaN   \n",
       "22300201 2                        0.0          3.0           NaN   \n",
       "\n",
       "                    meals_employer  meals_others  meals_payment  meals_home  \\\n",
       "hhid     person_id                                                            \n",
       "22300101 3                     NaN           NaN            3.0        87.0   \n",
       "         2                     NaN           3.0            NaN        87.0   \n",
       "         4                     NaN           NaN            4.0        86.0   \n",
       "         1                     NaN           NaN            3.0        87.0   \n",
       "22300201 2                     NaN           NaN            NaN        90.0   \n",
       "\n",
       "                    member_status  original_member  multiplier  \n",
       "hhid     person_id                                              \n",
       "22300101 3                      1              1.0       57436  \n",
       "         2                      1              1.0       57436  \n",
       "         4                      1              1.0       57436  \n",
       "         1                      1              1.0       57436  \n",
       "22300201 2                      1              1.0       27497  "
      ]
     },
     "execution_count": 54,
     "metadata": {},
     "output_type": "execute_result"
    }
   ],
   "source": [
    "hmdf = pd.read_parquet('../hces-2023-24/data/sec-3-HCQ.parquet')\n",
    "hmdf.head()"
   ]
  },
  {
   "cell_type": "code",
   "execution_count": 56,
   "id": "e1fae2ef-396f-413d-b544-b766f192e5e1",
   "metadata": {
    "tags": []
   },
   "outputs": [
    {
     "data": {
      "text/plain": [
       "261953"
      ]
     },
     "execution_count": 56,
     "metadata": {},
     "output_type": "execute_result"
    }
   ],
   "source": [
    "hmdf.index.get_level_values(0).nunique()"
   ]
  },
  {
   "cell_type": "code",
   "execution_count": 66,
   "id": "806132b3-856d-483f-85d8-8eb8b734457a",
   "metadata": {
    "tags": []
   },
   "outputs": [],
   "source": [
    "hmdf['online'] = False\n",
    "hmdf.loc[hmdf.index.get_level_values(0).isin(any_ol), 'online'] = True"
   ]
  },
  {
   "cell_type": "code",
   "execution_count": 67,
   "id": "e673f867-379e-4409-8a63-3bbf139c9cb5",
   "metadata": {
    "tags": []
   },
   "outputs": [
    {
     "data": {
      "text/html": [
       "<div>\n",
       "<style scoped>\n",
       "    .dataframe tbody tr th:only-of-type {\n",
       "        vertical-align: middle;\n",
       "    }\n",
       "\n",
       "    .dataframe tbody tr th {\n",
       "        vertical-align: top;\n",
       "    }\n",
       "\n",
       "    .dataframe thead th {\n",
       "        text-align: right;\n",
       "    }\n",
       "</style>\n",
       "<table border=\"1\" class=\"dataframe\">\n",
       "  <thead>\n",
       "    <tr style=\"text-align: right;\">\n",
       "      <th></th>\n",
       "      <th></th>\n",
       "      <th>rel_to_hoh</th>\n",
       "      <th>gender</th>\n",
       "      <th>age</th>\n",
       "      <th>marital_status</th>\n",
       "      <th>edu_level</th>\n",
       "      <th>edu_years</th>\n",
       "      <th>used_internet</th>\n",
       "      <th>days_outside_home</th>\n",
       "      <th>meals_daily</th>\n",
       "      <th>meals_school</th>\n",
       "      <th>meals_employer</th>\n",
       "      <th>meals_others</th>\n",
       "      <th>meals_payment</th>\n",
       "      <th>meals_home</th>\n",
       "      <th>member_status</th>\n",
       "      <th>original_member</th>\n",
       "      <th>multiplier</th>\n",
       "      <th>online</th>\n",
       "    </tr>\n",
       "    <tr>\n",
       "      <th>hhid</th>\n",
       "      <th>person_id</th>\n",
       "      <th></th>\n",
       "      <th></th>\n",
       "      <th></th>\n",
       "      <th></th>\n",
       "      <th></th>\n",
       "      <th></th>\n",
       "      <th></th>\n",
       "      <th></th>\n",
       "      <th></th>\n",
       "      <th></th>\n",
       "      <th></th>\n",
       "      <th></th>\n",
       "      <th></th>\n",
       "      <th></th>\n",
       "      <th></th>\n",
       "      <th></th>\n",
       "      <th></th>\n",
       "      <th></th>\n",
       "    </tr>\n",
       "  </thead>\n",
       "  <tbody>\n",
       "    <tr>\n",
       "      <th rowspan=\"4\" valign=\"top\">22300101</th>\n",
       "      <th>3</th>\n",
       "      <td>unmarried child</td>\n",
       "      <td>male</td>\n",
       "      <td>23</td>\n",
       "      <td>never married</td>\n",
       "      <td>graduate</td>\n",
       "      <td>18.0</td>\n",
       "      <td>yes</td>\n",
       "      <td>0.0</td>\n",
       "      <td>3.0</td>\n",
       "      <td>NaN</td>\n",
       "      <td>NaN</td>\n",
       "      <td>NaN</td>\n",
       "      <td>3.0</td>\n",
       "      <td>87.0</td>\n",
       "      <td>1</td>\n",
       "      <td>1.0</td>\n",
       "      <td>57436</td>\n",
       "      <td>False</td>\n",
       "    </tr>\n",
       "    <tr>\n",
       "      <th>2</th>\n",
       "      <td>spouse</td>\n",
       "      <td>female</td>\n",
       "      <td>45</td>\n",
       "      <td>currently married</td>\n",
       "      <td>secondary</td>\n",
       "      <td>10.0</td>\n",
       "      <td>yes</td>\n",
       "      <td>0.0</td>\n",
       "      <td>3.0</td>\n",
       "      <td>NaN</td>\n",
       "      <td>NaN</td>\n",
       "      <td>3.0</td>\n",
       "      <td>NaN</td>\n",
       "      <td>87.0</td>\n",
       "      <td>1</td>\n",
       "      <td>1.0</td>\n",
       "      <td>57436</td>\n",
       "      <td>False</td>\n",
       "    </tr>\n",
       "    <tr>\n",
       "      <th>4</th>\n",
       "      <td>unmarried child</td>\n",
       "      <td>female</td>\n",
       "      <td>24</td>\n",
       "      <td>never married</td>\n",
       "      <td>post graduate and above</td>\n",
       "      <td>20.0</td>\n",
       "      <td>yes</td>\n",
       "      <td>0.0</td>\n",
       "      <td>3.0</td>\n",
       "      <td>NaN</td>\n",
       "      <td>NaN</td>\n",
       "      <td>NaN</td>\n",
       "      <td>4.0</td>\n",
       "      <td>86.0</td>\n",
       "      <td>1</td>\n",
       "      <td>1.0</td>\n",
       "      <td>57436</td>\n",
       "      <td>False</td>\n",
       "    </tr>\n",
       "    <tr>\n",
       "      <th>1</th>\n",
       "      <td>self</td>\n",
       "      <td>male</td>\n",
       "      <td>56</td>\n",
       "      <td>currently married</td>\n",
       "      <td>graduate</td>\n",
       "      <td>15.0</td>\n",
       "      <td>yes</td>\n",
       "      <td>0.0</td>\n",
       "      <td>3.0</td>\n",
       "      <td>NaN</td>\n",
       "      <td>NaN</td>\n",
       "      <td>NaN</td>\n",
       "      <td>3.0</td>\n",
       "      <td>87.0</td>\n",
       "      <td>1</td>\n",
       "      <td>1.0</td>\n",
       "      <td>57436</td>\n",
       "      <td>False</td>\n",
       "    </tr>\n",
       "    <tr>\n",
       "      <th>22300201</th>\n",
       "      <th>2</th>\n",
       "      <td>spouse</td>\n",
       "      <td>female</td>\n",
       "      <td>44</td>\n",
       "      <td>currently married</td>\n",
       "      <td>upper primary/middle</td>\n",
       "      <td>8.0</td>\n",
       "      <td>no</td>\n",
       "      <td>0.0</td>\n",
       "      <td>3.0</td>\n",
       "      <td>NaN</td>\n",
       "      <td>NaN</td>\n",
       "      <td>NaN</td>\n",
       "      <td>NaN</td>\n",
       "      <td>90.0</td>\n",
       "      <td>1</td>\n",
       "      <td>1.0</td>\n",
       "      <td>27497</td>\n",
       "      <td>True</td>\n",
       "    </tr>\n",
       "  </tbody>\n",
       "</table>\n",
       "</div>"
      ],
      "text/plain": [
       "                         rel_to_hoh  gender  age     marital_status  \\\n",
       "hhid     person_id                                                    \n",
       "22300101 3          unmarried child    male   23      never married   \n",
       "         2                   spouse  female   45  currently married   \n",
       "         4          unmarried child  female   24      never married   \n",
       "         1                     self    male   56  currently married   \n",
       "22300201 2                   spouse  female   44  currently married   \n",
       "\n",
       "                                  edu_level  edu_years used_internet  \\\n",
       "hhid     person_id                                                     \n",
       "22300101 3                         graduate       18.0           yes   \n",
       "         2                        secondary       10.0           yes   \n",
       "         4          post graduate and above       20.0           yes   \n",
       "         1                         graduate       15.0           yes   \n",
       "22300201 2             upper primary/middle        8.0            no   \n",
       "\n",
       "                    days_outside_home  meals_daily  meals_school  \\\n",
       "hhid     person_id                                                 \n",
       "22300101 3                        0.0          3.0           NaN   \n",
       "         2                        0.0          3.0           NaN   \n",
       "         4                        0.0          3.0           NaN   \n",
       "         1                        0.0          3.0           NaN   \n",
       "22300201 2                        0.0          3.0           NaN   \n",
       "\n",
       "                    meals_employer  meals_others  meals_payment  meals_home  \\\n",
       "hhid     person_id                                                            \n",
       "22300101 3                     NaN           NaN            3.0        87.0   \n",
       "         2                     NaN           3.0            NaN        87.0   \n",
       "         4                     NaN           NaN            4.0        86.0   \n",
       "         1                     NaN           NaN            3.0        87.0   \n",
       "22300201 2                     NaN           NaN            NaN        90.0   \n",
       "\n",
       "                    member_status  original_member  multiplier  online  \n",
       "hhid     person_id                                                      \n",
       "22300101 3                      1              1.0       57436   False  \n",
       "         2                      1              1.0       57436   False  \n",
       "         4                      1              1.0       57436   False  \n",
       "         1                      1              1.0       57436   False  \n",
       "22300201 2                      1              1.0       27497    True  "
      ]
     },
     "execution_count": 67,
     "metadata": {},
     "output_type": "execute_result"
    }
   ],
   "source": [
    "hmdf.head()"
   ]
  },
  {
   "cell_type": "code",
   "execution_count": null,
   "id": "b3a28c67-297a-4651-b7eb-f8c4bbc30709",
   "metadata": {},
   "outputs": [],
   "source": [
    "# Characteristics of households that use shopping vs non-shopping\n",
    "# 1. Age of the HoH\n",
    "# 2. Average age of the household\n",
    "# 3. Highest education level of the household\n",
    "# 4. Total years of education\n",
    "# 5. Used internet in the last month"
   ]
  },
  {
   "cell_type": "code",
   "execution_count": 103,
   "id": "99d44f2f-3898-4ff8-bcad-b1040579bb86",
   "metadata": {
    "tags": []
   },
   "outputs": [
    {
     "data": {
      "text/plain": [
       "online\n",
       "False    48.379805\n",
       "True     47.201425\n",
       "dtype: float64"
      ]
     },
     "execution_count": 103,
     "metadata": {},
     "output_type": "execute_result"
    }
   ],
   "source": [
    "# 1.\n",
    "hoh = hmdf[hmdf['rel_to_hoh'] == 'self']\n",
    "hoh.groupby('online').apply(\n",
    "    lambda g: (g['age'] * g['multiplier']).sum() / g['multiplier'].sum()\n",
    ")\n",
    "# -- no significant difference"
   ]
  },
  {
   "cell_type": "code",
   "execution_count": 104,
   "id": "8f53cefb-2c98-4e3e-a6e7-fd4be79468cd",
   "metadata": {
    "tags": []
   },
   "outputs": [
    {
     "data": {
      "text/plain": [
       "online\n",
       "False    31.258128\n",
       "True     32.782747\n",
       "dtype: float64"
      ]
     },
     "execution_count": 104,
     "metadata": {},
     "output_type": "execute_result"
    }
   ],
   "source": [
    "# 2. \n",
    "hmdf.groupby('online').apply(\n",
    "    lambda g: (g['age'] * g['multiplier']).sum() / g['multiplier'].sum()\n",
    ")\n",
    "# -- nothing significant"
   ]
  },
  {
   "cell_type": "code",
   "execution_count": 106,
   "id": "d79ca598-d9cd-4ab3-a74b-a9dae86c2781",
   "metadata": {
    "tags": []
   },
   "outputs": [
    {
     "data": {
      "text/plain": [
       "array(['graduate', 'secondary', 'post graduate and above',\n",
       "       'upper primary/middle', 'below primary', 'not literate',\n",
       "       'higher secondary', 'primary',\n",
       "       'diploma/certificate course (graduation & above)',\n",
       "       'diploma/certificate course (up to secondary)',\n",
       "       'diploma/certificate course (higher secondary)',\n",
       "       'literate with non-formal education'], dtype=object)"
      ]
     },
     "execution_count": 106,
     "metadata": {},
     "output_type": "execute_result"
    }
   ],
   "source": [
    "hmdf['edu_level'].unique()"
   ]
  },
  {
   "cell_type": "code",
   "execution_count": 107,
   "id": "3a2a55ed-0c90-4491-ac00-0d8cf9e6646b",
   "metadata": {
    "tags": []
   },
   "outputs": [],
   "source": [
    "education = pd.CategoricalDtype([\n",
    "    'not literate', 'literate with non-formal education', 'below primary', 'primary', \n",
    "    'upper primary/middle', 'secondary', 'higher secondary', \n",
    "    'diploma/certificate course (up to secondary)', \n",
    "    'diploma/certificate course (higher secondary)',\n",
    "    'diploma/certificate course (graduation & above)', \n",
    "    'graduate', 'post graduate and above'\n",
    "], ordered=True)"
   ]
  },
  {
   "cell_type": "code",
   "execution_count": 110,
   "id": "f887e719-35a4-4a9d-9cc1-fa496e2acd16",
   "metadata": {
    "tags": []
   },
   "outputs": [],
   "source": [
    "hmdf['edu_level'] = hmdf['edu_level'].astype(education)"
   ]
  },
  {
   "cell_type": "code",
   "execution_count": 119,
   "id": "d2dc88ad-e779-4c3e-8aa1-634456441298",
   "metadata": {
    "tags": []
   },
   "outputs": [],
   "source": [
    "import seaborn as sns"
   ]
  },
  {
   "cell_type": "code",
   "execution_count": 131,
   "id": "da0218bf-e20b-4238-acbe-8628724fc87a",
   "metadata": {
    "tags": []
   },
   "outputs": [
    {
     "name": "stderr",
     "output_type": "stream",
     "text": [
      "/tmp/ipykernel_9634/1453289364.py:8: FutureWarning: The default of observed=False is deprecated and will be changed to True in a future version of pandas. Pass observed=False to retain current behavior or observed=True to adopt the future default and silence this warning.\n",
      "  edu.groupby('edu_level').apply(lambda g: (g['online'] * g['multiplier']).sum() / g['multiplier'].sum()).sort_values().plot(kind='barh')\n"
     ]
    },
    {
     "data": {
      "text/plain": [
       "<Axes: ylabel='edu_level'>"
      ]
     },
     "execution_count": 131,
     "metadata": {},
     "output_type": "execute_result"
    },
    {
     "data": {
      "image/png": "[encoded data removed]",
      "text/plain": [
       "<Figure size 640x480 with 1 Axes>"
      ]
     },
     "metadata": {},
     "output_type": "display_data"
    }
   ],
   "source": [
    "# 3.\n",
    "g = hmdf.groupby(hmdf.index.get_level_values(0))\n",
    "edu = pd.concat([\n",
    "    g['edu_level'].max(),\n",
    "    g['online'].first(),\n",
    "    g['multiplier'].first()\n",
    "], axis=1)\n",
    "edu.groupby('edu_level').apply(lambda g: (g['online'] * g['multiplier']).sum() / g['multiplier'].sum()).sort_values().plot(kind='barh')\n",
    "# -- probability of online shopping steadily increases with education"
   ]
  },
  {
   "cell_type": "code",
   "execution_count": 135,
   "id": "c7b56f5e-563f-467b-8546-9b62279c0c5c",
   "metadata": {
    "tags": []
   },
   "outputs": [
    {
     "name": "stderr",
     "output_type": "stream",
     "text": [
      "/tmp/ipykernel_9634/15321164.py:10: FutureWarning: The default of observed=False is deprecated and will be changed to True in a future version of pandas. Pass observed=False to retain current behavior or observed=True to adopt the future default and silence this warning.\n",
      "  internet.groupby('used_internet').apply(lambda g: (g['online'] * g['multiplier']).sum() / g['multiplier'].sum()).sort_values() * 100\n"
     ]
    },
    {
     "data": {
      "text/plain": [
       "used_internet\n",
       "no     0.510819\n",
       "yes    8.408325\n",
       "dtype: float64"
      ]
     },
     "execution_count": 135,
     "metadata": {},
     "output_type": "execute_result"
    }
   ],
   "source": [
    "# 4.\n",
    "used_internet = pd.CategoricalDtype(['no', 'yes'], ordered=True)\n",
    "hmdf['used_internet'] = hmdf['used_internet'].astype(used_internet)\n",
    "g = hmdf.groupby(hmdf.index.get_level_values(0))\n",
    "internet = pd.concat([\n",
    "    g['used_internet'].max(),\n",
    "    g['online'].first(),\n",
    "    g['multiplier'].first()\n",
    "], axis=1)\n",
    "internet.groupby('used_internet').apply(lambda g: (g['online'] * g['multiplier']).sum() / g['multiplier'].sum()).sort_values() * 100\n",
    "# -- significant impact of internet use"
   ]
  },
  {
   "cell_type": "code",
   "execution_count": null,
   "id": "79ae8e67-3f4b-4bef-bbcb-ea1edfe203f8",
   "metadata": {},
   "outputs": [],
   "source": [
    "# -- Those that don't use internet, where do their groceries come from?"
   ]
  }
 ],
 "metadata": {
  "kernelspec": {
   "display_name": "Python 3 (ipykernel)",
   "language": "python",
   "name": "python3"
  },
  "language_info": {
   "codemirror_mode": {
    "name": "ipython",
    "version": 3
   },
   "file_extension": ".py",
   "mimetype": "text/x-python",
   "name": "python",
   "nbconvert_exporter": "python",
   "pygments_lexer": "ipython3",
   "version": "3.9.18"
  }
 },
 "nbformat": 4,
 "nbformat_minor": 5
}
