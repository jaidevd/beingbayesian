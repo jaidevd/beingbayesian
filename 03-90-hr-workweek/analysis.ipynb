{
 "cells": [
  {
   "cell_type": "code",
   "execution_count": 1,
   "id": "922e8ec5-d99a-44b5-a794-a09b3a30330d",
   "metadata": {
    "tags": []
   },
   "outputs": [
    {
     "data": {
      "text/html": [
       "<div>\n",
       "<style scoped>\n",
       "    .dataframe tbody tr th:only-of-type {\n",
       "        vertical-align: middle;\n",
       "    }\n",
       "\n",
       "    .dataframe tbody tr th {\n",
       "        vertical-align: top;\n",
       "    }\n",
       "\n",
       "    .dataframe thead th {\n",
       "        text-align: right;\n",
       "    }\n",
       "</style>\n",
       "<table border=\"1\" class=\"dataframe\">\n",
       "  <thead>\n",
       "    <tr style=\"text-align: right;\">\n",
       "      <th></th>\n",
       "      <th></th>\n",
       "      <th></th>\n",
       "      <th>sector</th>\n",
       "      <th>gender</th>\n",
       "      <th>age</th>\n",
       "      <th>marital_status</th>\n",
       "      <th>education</th>\n",
       "      <th>nic_2008_principal_activity</th>\n",
       "      <th>mult</th>\n",
       "      <th>religion</th>\n",
       "      <th>social_group</th>\n",
       "      <th>total_monthly_ce</th>\n",
       "      <th>...</th>\n",
       "      <th>ACT_1</th>\n",
       "      <th>ACT_2</th>\n",
       "      <th>ACT_3</th>\n",
       "      <th>ACT_4</th>\n",
       "      <th>ACT_5</th>\n",
       "      <th>ACT_6</th>\n",
       "      <th>ACT_7</th>\n",
       "      <th>ACT_8</th>\n",
       "      <th>ACT_9</th>\n",
       "      <th>qrt</th>\n",
       "    </tr>\n",
       "    <tr>\n",
       "      <th>fsu_serial_no</th>\n",
       "      <th>sample_hh_no</th>\n",
       "      <th>person_serial_no</th>\n",
       "      <th></th>\n",
       "      <th></th>\n",
       "      <th></th>\n",
       "      <th></th>\n",
       "      <th></th>\n",
       "      <th></th>\n",
       "      <th></th>\n",
       "      <th></th>\n",
       "      <th></th>\n",
       "      <th></th>\n",
       "      <th></th>\n",
       "      <th></th>\n",
       "      <th></th>\n",
       "      <th></th>\n",
       "      <th></th>\n",
       "      <th></th>\n",
       "      <th></th>\n",
       "      <th></th>\n",
       "      <th></th>\n",
       "      <th></th>\n",
       "      <th></th>\n",
       "    </tr>\n",
       "  </thead>\n",
       "  <tbody>\n",
       "    <tr>\n",
       "      <th rowspan=\"5\" valign=\"top\">30010</th>\n",
       "      <th>1</th>\n",
       "      <th>1</th>\n",
       "      <td>Rural</td>\n",
       "      <td>male</td>\n",
       "      <td>45</td>\n",
       "      <td>never married</td>\n",
       "      <td>graduate</td>\n",
       "      <td>85.0</td>\n",
       "      <td>208857</td>\n",
       "      <td>Hinduism</td>\n",
       "      <td>other backward class</td>\n",
       "      <td>7142.0</td>\n",
       "      <td>...</td>\n",
       "      <td>300.0</td>\n",
       "      <td>30.0</td>\n",
       "      <td>300.0</td>\n",
       "      <td>0.0</td>\n",
       "      <td>0.0</td>\n",
       "      <td>0.0</td>\n",
       "      <td>60.0</td>\n",
       "      <td>120.0</td>\n",
       "      <td>720.0</td>\n",
       "      <td>1st</td>\n",
       "    </tr>\n",
       "    <tr>\n",
       "      <th>2</th>\n",
       "      <th>3</th>\n",
       "      <td>Rural</td>\n",
       "      <td>female</td>\n",
       "      <td>29</td>\n",
       "      <td>currently married</td>\n",
       "      <td>graduate</td>\n",
       "      <td>86.0</td>\n",
       "      <td>208857</td>\n",
       "      <td>Hinduism</td>\n",
       "      <td>other backward class</td>\n",
       "      <td>18317.0</td>\n",
       "      <td>...</td>\n",
       "      <td>480.0</td>\n",
       "      <td>0.0</td>\n",
       "      <td>180.0</td>\n",
       "      <td>60.0</td>\n",
       "      <td>0.0</td>\n",
       "      <td>0.0</td>\n",
       "      <td>120.0</td>\n",
       "      <td>0.0</td>\n",
       "      <td>750.0</td>\n",
       "      <td>4th</td>\n",
       "    </tr>\n",
       "    <tr>\n",
       "      <th rowspan=\"2\" valign=\"top\">3</th>\n",
       "      <th>1</th>\n",
       "      <td>Rural</td>\n",
       "      <td>male</td>\n",
       "      <td>48</td>\n",
       "      <td>currently married</td>\n",
       "      <td>secondary</td>\n",
       "      <td>1.0</td>\n",
       "      <td>208857</td>\n",
       "      <td>Hinduism</td>\n",
       "      <td>other backward class</td>\n",
       "      <td>10147.0</td>\n",
       "      <td>...</td>\n",
       "      <td>480.0</td>\n",
       "      <td>0.0</td>\n",
       "      <td>0.0</td>\n",
       "      <td>0.0</td>\n",
       "      <td>0.0</td>\n",
       "      <td>0.0</td>\n",
       "      <td>180.0</td>\n",
       "      <td>150.0</td>\n",
       "      <td>720.0</td>\n",
       "      <td>2nd</td>\n",
       "    </tr>\n",
       "    <tr>\n",
       "      <th>2</th>\n",
       "      <td>Rural</td>\n",
       "      <td>female</td>\n",
       "      <td>44</td>\n",
       "      <td>currently married</td>\n",
       "      <td>below primary</td>\n",
       "      <td>NaN</td>\n",
       "      <td>208857</td>\n",
       "      <td>Hinduism</td>\n",
       "      <td>other backward class</td>\n",
       "      <td>10147.0</td>\n",
       "      <td>...</td>\n",
       "      <td>30.0</td>\n",
       "      <td>60.0</td>\n",
       "      <td>630.0</td>\n",
       "      <td>0.0</td>\n",
       "      <td>0.0</td>\n",
       "      <td>0.0</td>\n",
       "      <td>150.0</td>\n",
       "      <td>90.0</td>\n",
       "      <td>810.0</td>\n",
       "      <td>2nd</td>\n",
       "    </tr>\n",
       "    <tr>\n",
       "      <th>4</th>\n",
       "      <th>1</th>\n",
       "      <td>Rural</td>\n",
       "      <td>male</td>\n",
       "      <td>38</td>\n",
       "      <td>currently married</td>\n",
       "      <td>primary</td>\n",
       "      <td>49.0</td>\n",
       "      <td>208857</td>\n",
       "      <td>Hinduism</td>\n",
       "      <td>other backward class</td>\n",
       "      <td>13387.0</td>\n",
       "      <td>...</td>\n",
       "      <td>570.0</td>\n",
       "      <td>0.0</td>\n",
       "      <td>0.0</td>\n",
       "      <td>0.0</td>\n",
       "      <td>0.0</td>\n",
       "      <td>0.0</td>\n",
       "      <td>90.0</td>\n",
       "      <td>120.0</td>\n",
       "      <td>720.0</td>\n",
       "      <td>3rd</td>\n",
       "    </tr>\n",
       "  </tbody>\n",
       "</table>\n",
       "<p>5 rows × 26 columns</p>\n",
       "</div>"
      ],
      "text/plain": [
       "                                            sector  gender  age  \\\n",
       "fsu_serial_no sample_hh_no person_serial_no                       \n",
       "30010         1            1                 Rural    male   45   \n",
       "              2            3                 Rural  female   29   \n",
       "              3            1                 Rural    male   48   \n",
       "                           2                 Rural  female   44   \n",
       "              4            1                 Rural    male   38   \n",
       "\n",
       "                                                marital_status      education  \\\n",
       "fsu_serial_no sample_hh_no person_serial_no                                     \n",
       "30010         1            1                     never married       graduate   \n",
       "              2            3                 currently married       graduate   \n",
       "              3            1                 currently married      secondary   \n",
       "                           2                 currently married  below primary   \n",
       "              4            1                 currently married        primary   \n",
       "\n",
       "                                             nic_2008_principal_activity  \\\n",
       "fsu_serial_no sample_hh_no person_serial_no                                \n",
       "30010         1            1                                        85.0   \n",
       "              2            3                                        86.0   \n",
       "              3            1                                         1.0   \n",
       "                           2                                         NaN   \n",
       "              4            1                                        49.0   \n",
       "\n",
       "                                               mult  religion  \\\n",
       "fsu_serial_no sample_hh_no person_serial_no                     \n",
       "30010         1            1                 208857  Hinduism   \n",
       "              2            3                 208857  Hinduism   \n",
       "              3            1                 208857  Hinduism   \n",
       "                           2                 208857  Hinduism   \n",
       "              4            1                 208857  Hinduism   \n",
       "\n",
       "                                                     social_group  \\\n",
       "fsu_serial_no sample_hh_no person_serial_no                         \n",
       "30010         1            1                 other backward class   \n",
       "              2            3                 other backward class   \n",
       "              3            1                 other backward class   \n",
       "                           2                 other backward class   \n",
       "              4            1                 other backward class   \n",
       "\n",
       "                                             total_monthly_ce  ...  ACT_1  \\\n",
       "fsu_serial_no sample_hh_no person_serial_no                    ...          \n",
       "30010         1            1                           7142.0  ...  300.0   \n",
       "              2            3                          18317.0  ...  480.0   \n",
       "              3            1                          10147.0  ...  480.0   \n",
       "                           2                          10147.0  ...   30.0   \n",
       "              4            1                          13387.0  ...  570.0   \n",
       "\n",
       "                                            ACT_2  ACT_3 ACT_4 ACT_5 ACT_6  \\\n",
       "fsu_serial_no sample_hh_no person_serial_no                                  \n",
       "30010         1            1                 30.0  300.0   0.0   0.0   0.0   \n",
       "              2            3                  0.0  180.0  60.0   0.0   0.0   \n",
       "              3            1                  0.0    0.0   0.0   0.0   0.0   \n",
       "                           2                 60.0  630.0   0.0   0.0   0.0   \n",
       "              4            1                  0.0    0.0   0.0   0.0   0.0   \n",
       "\n",
       "                                             ACT_7  ACT_8  ACT_9  qrt  \n",
       "fsu_serial_no sample_hh_no person_serial_no                            \n",
       "30010         1            1                  60.0  120.0  720.0  1st  \n",
       "              2            3                 120.0    0.0  750.0  4th  \n",
       "              3            1                 180.0  150.0  720.0  2nd  \n",
       "                           2                 150.0   90.0  810.0  2nd  \n",
       "              4            1                  90.0  120.0  720.0  3rd  \n",
       "\n",
       "[5 rows x 26 columns]"
      ]
     },
     "execution_count": 1,
     "metadata": {},
     "output_type": "execute_result"
    }
   ],
   "source": [
    "import pandas as pd\n",
    "import matplotlib.pyplot as plt\n",
    "from matplotlib import gridspec\n",
    "import seaborn as sns\n",
    "\n",
    "df = pd.read_parquet('workforce-summary.parquet')\n",
    "df['qrt'] = pd.qcut(df['total_monthly_ce'], 4, labels=['1st', '2nd', '3rd', '4th'])\n",
    "df.head()"
   ]
  },
  {
   "cell_type": "code",
   "execution_count": 2,
   "id": "986ce2c2-dc16-463a-b1ed-30a8ecd1d2c1",
   "metadata": {
    "tags": []
   },
   "outputs": [],
   "source": [
    "df['age-group'] = pd.cut(df['age'], [10, 20, 30, 40, 50, 60], labels=['<= 20', '20-30', '30-40', '40-50', '50-60'])\n",
    "# df['age']"
   ]
  },
  {
   "cell_type": "code",
   "execution_count": 5,
   "id": "2e855a98-92bf-48ed-9799-c2baac6f1cc1",
   "metadata": {
    "tags": []
   },
   "outputs": [
    {
     "data": {
      "text/plain": [
       "Text(0.5, 0.95, 'The average Indian worker puts in 40 to 60 hours a week\\n(Source: Time Use Survey 2024)')"
      ]
     },
     "execution_count": 5,
     "metadata": {},
     "output_type": "execute_result"
    },
    {
     "data": {
      "image/png": "[encoded data removed]",
      "text/plain": [
       "<Figure size 600x840 with 4 Axes>"
      ]
     },
     "metadata": {},
     "output_type": "display_data"
    }
   ],
   "source": [
    "CAT_COLS = ['sector', 'gender', 'marital_status', 'age-group']\n",
    "data = {}\n",
    "\n",
    "for c in CAT_COLS:\n",
    "    t = df.groupby(c).apply(lambda x: (x['ACT_1'] * x['mult']).sum() / x['mult'].sum())\n",
    "    t = t / 60 * 7\n",
    "    if c == 'age-group':\n",
    "        data[c] = t[['<= 20', '20-30', '30-40', '40-50', '50-60']]\n",
    "    else:\n",
    "        data[c] = t.sort_values(ascending=False)\n",
    "\n",
    "colors = [\n",
    "    \"#8FA9B4\",  # muted blue-gray\n",
    "    \"#AFAF7C\",  # soft olive\n",
    "    \"#C79F8B\",  # dusty peach\n",
    "    \"#B0A8B9\",  # muted lavender-gray\n",
    "    \"#9EB5A1\",  # soft sage green\n",
    "    \"#D1B3A1\",  # pale rose-beige\n",
    "]\n",
    "\n",
    "bar_height = 0.5      # thickness of each bar\n",
    "bar_spacing = 0.6     # center-to-center distance between bars (1 = default, <1 = closer)\n",
    "\n",
    "heights = [len(s) * bar_spacing for s in data.values()]\n",
    "\n",
    "fig = plt.figure(figsize=(6, sum(heights)), facecolor=\"papayawhip\")\n",
    "gs = gridspec.GridSpec(len(data), 1, height_ratios=heights, hspace=0.1)\n",
    "\n",
    "axes = []\n",
    "for i, (title, series) in enumerate(data.items()):\n",
    "    ax = fig.add_subplot(gs[i], sharex=axes[0] if axes else None, facecolor=\"papayawhip\")\n",
    "    \n",
    "    # Space bars according to bar_spacing\n",
    "    y = [j * bar_spacing for j in range(len(series))]\n",
    "    ax.barh(y, series.values, height=bar_height, color=colors[i % len(colors)])\n",
    "    ax.set_yticks(y)\n",
    "    ax.set_yticklabels(series.index)\n",
    "    # ax.yaxis.set_label_position('right')\n",
    "    \n",
    "    # Extra padding for tick-label gap\n",
    "    ax.tick_params(axis=\"y\", pad=8)\n",
    "    ax.yaxis.tick_right()\n",
    "\n",
    "    # Bold axis label (group name)\n",
    "    ax.set_ylabel(title.replace('_', ' ').replace('-', ' ').title(), fontweight=\"bold\")\n",
    "\n",
    "    # Remove spines\n",
    "    for spine in ax.spines.values():\n",
    "        spine.set_visible(False)\n",
    "\n",
    "    # Vertical gridlines\n",
    "    ax.xaxis.grid(True, linestyle=\"--\", linewidth=0.5, alpha=0.7)\n",
    "\n",
    "    # Hide x-axis ticks except bottom\n",
    "    if i != len(data) - 1:\n",
    "        ax.tick_params(axis=\"x\", which=\"both\", bottom=False, top=False, labelbottom=False)\n",
    "    else:\n",
    "        ax.set_xlabel('Hours / week spent on Employment Related Activities', labelpad=20, fontweight='bold')\n",
    "\n",
    "\n",
    "    axes.append(ax)\n",
    "fig.suptitle('Weekly Working Hours in India by Demographics', fontweight='bold', fontsize='large', y=0.98)\n",
    "fig.text(0.5, 0.95, 'The average Indian worker puts in 40 to 60 hours a week\\n(Source: Time Use Survey 2024)', ha='center', va='top', fontweight=\"bold\")"
   ]
  },
  {
   "cell_type": "code",
   "execution_count": 6,
   "id": "d077755b-dc78-4ec7-ac71-b81aedfe6b22",
   "metadata": {
    "tags": []
   },
   "outputs": [
    {
     "data": {
      "text/html": [
       "<div>\n",
       "<style scoped>\n",
       "    .dataframe tbody tr th:only-of-type {\n",
       "        vertical-align: middle;\n",
       "    }\n",
       "\n",
       "    .dataframe tbody tr th {\n",
       "        vertical-align: top;\n",
       "    }\n",
       "\n",
       "    .dataframe thead th {\n",
       "        text-align: right;\n",
       "    }\n",
       "</style>\n",
       "<table border=\"1\" class=\"dataframe\">\n",
       "  <thead>\n",
       "    <tr style=\"text-align: right;\">\n",
       "      <th>sector</th>\n",
       "      <th>Rural</th>\n",
       "      <th>Urban</th>\n",
       "    </tr>\n",
       "    <tr>\n",
       "      <th>gender</th>\n",
       "      <th></th>\n",
       "      <th></th>\n",
       "    </tr>\n",
       "  </thead>\n",
       "  <tbody>\n",
       "    <tr>\n",
       "      <th>female</th>\n",
       "      <td>40.487140</td>\n",
       "      <td>49.076974</td>\n",
       "    </tr>\n",
       "    <tr>\n",
       "      <th>male</th>\n",
       "      <td>56.363324</td>\n",
       "      <td>63.907593</td>\n",
       "    </tr>\n",
       "    <tr>\n",
       "      <th>transgender</th>\n",
       "      <td>38.459366</td>\n",
       "      <td>35.282156</td>\n",
       "    </tr>\n",
       "  </tbody>\n",
       "</table>\n",
       "</div>"
      ],
      "text/plain": [
       "sector           Rural      Urban\n",
       "gender                           \n",
       "female       40.487140  49.076974\n",
       "male         56.363324  63.907593\n",
       "transgender  38.459366  35.282156"
      ]
     },
     "execution_count": 6,
     "metadata": {},
     "output_type": "execute_result"
    }
   ],
   "source": [
    "df.groupby(['gender', 'sector']).apply(lambda x: (x['ACT_1'] * x['mult']).sum() / x['mult'].sum()).unstack() * 7 / 60"
   ]
  },
  {
   "cell_type": "code",
   "execution_count": 7,
   "id": "52657ad9-8485-42ef-95c4-545c3b8d069b",
   "metadata": {
    "tags": []
   },
   "outputs": [],
   "source": [
    "# Split the workforce into whitecollar vs non-whitecollar jobs\n",
    "import yaml\n",
    "with open('nic-white-collar.yaml', 'r') as fin:\n",
    "    WC_NIC = yaml.safe_load(fin).keys()\n",
    "    \n",
    "whitecollar = df[df['nic_2008_principal_activity'].isin(WC_NIC)]\n",
    "df.drop(whitecollar.index, axis=0, inplace=True)"
   ]
  },
  {
   "cell_type": "code",
   "execution_count": 8,
   "id": "e64cfd2e-7231-4883-ae3c-a6baf0255062",
   "metadata": {
    "tags": []
   },
   "outputs": [],
   "source": [
    "ACT_COLS = [f'ACT_{i}' for i in range(1, 10)]\n",
    "workforce_ts = df.groupby('gender').apply(lambda x: pd.Series((x[ACT_COLS].values * x['mult'].values.reshape(-1, 1)).sum(axis=0) / x['mult'].sum()))\n",
    "workforce_ts.columns = ACT_COLS\n",
    "workforce_ts *= 7 / 60\n",
    "workforce_ts = workforce_ts.loc[['female', 'male']]\n",
    "\n",
    "\n",
    "wc_ts = whitecollar.groupby('gender').apply(lambda x: pd.Series((x[ACT_COLS].values * x['mult'].values.reshape(-1, 1)).sum(axis=0) / x['mult'].sum()))\n",
    "wc_ts.columns = ACT_COLS\n",
    "wc_ts *= 7 / 60\n",
    "wc_ts = wc_ts.loc[['female', 'male']]\n"
   ]
  },
  {
   "cell_type": "code",
   "execution_count": 13,
   "id": "cad7be34-1305-4039-acd5-fa3b91e58fe5",
   "metadata": {
    "tags": []
   },
   "outputs": [],
   "source": [
    "wfts = workforce_ts.unstack().reset_index()\n",
    "wfts.columns = ['activity', 'gender', 'time_spent']\n",
    "wfts['type'] = 'workforce'"
   ]
  },
  {
   "cell_type": "code",
   "execution_count": 16,
   "id": "ff057c3d-64a2-4485-b01e-f3e9cbeb1c76",
   "metadata": {
    "tags": []
   },
   "outputs": [],
   "source": [
    "wcts = wc_ts.unstack().reset_index()\n",
    "wcts.columns = ['activity', 'gender', 'time_spent']\n",
    "wcts['type'] = 'whitecollar'"
   ]
  },
  {
   "cell_type": "code",
   "execution_count": 18,
   "id": "fcc44a04-c9aa-4834-8d2f-c11286d95c2e",
   "metadata": {
    "tags": []
   },
   "outputs": [
    {
     "data": {
      "text/html": [
       "<div>\n",
       "<style scoped>\n",
       "    .dataframe tbody tr th:only-of-type {\n",
       "        vertical-align: middle;\n",
       "    }\n",
       "\n",
       "    .dataframe tbody tr th {\n",
       "        vertical-align: top;\n",
       "    }\n",
       "\n",
       "    .dataframe thead th {\n",
       "        text-align: right;\n",
       "    }\n",
       "</style>\n",
       "<table border=\"1\" class=\"dataframe\">\n",
       "  <thead>\n",
       "    <tr style=\"text-align: right;\">\n",
       "      <th></th>\n",
       "      <th>activity</th>\n",
       "      <th>gender</th>\n",
       "      <th>time_spent</th>\n",
       "      <th>type</th>\n",
       "    </tr>\n",
       "  </thead>\n",
       "  <tbody>\n",
       "    <tr>\n",
       "      <th>16</th>\n",
       "      <td>ACT_9</td>\n",
       "      <td>female</td>\n",
       "      <td>81.854336</td>\n",
       "      <td>whitecollar</td>\n",
       "    </tr>\n",
       "    <tr>\n",
       "      <th>15</th>\n",
       "      <td>ACT_8</td>\n",
       "      <td>male</td>\n",
       "      <td>17.790561</td>\n",
       "      <td>workforce</td>\n",
       "    </tr>\n",
       "    <tr>\n",
       "      <th>8</th>\n",
       "      <td>ACT_5</td>\n",
       "      <td>female</td>\n",
       "      <td>0.100376</td>\n",
       "      <td>workforce</td>\n",
       "    </tr>\n",
       "    <tr>\n",
       "      <th>16</th>\n",
       "      <td>ACT_9</td>\n",
       "      <td>female</td>\n",
       "      <td>82.482155</td>\n",
       "      <td>workforce</td>\n",
       "    </tr>\n",
       "    <tr>\n",
       "      <th>10</th>\n",
       "      <td>ACT_6</td>\n",
       "      <td>female</td>\n",
       "      <td>0.276222</td>\n",
       "      <td>whitecollar</td>\n",
       "    </tr>\n",
       "    <tr>\n",
       "      <th>6</th>\n",
       "      <td>ACT_4</td>\n",
       "      <td>female</td>\n",
       "      <td>3.278013</td>\n",
       "      <td>whitecollar</td>\n",
       "    </tr>\n",
       "    <tr>\n",
       "      <th>8</th>\n",
       "      <td>ACT_5</td>\n",
       "      <td>female</td>\n",
       "      <td>0.104870</td>\n",
       "      <td>whitecollar</td>\n",
       "    </tr>\n",
       "    <tr>\n",
       "      <th>2</th>\n",
       "      <td>ACT_2</td>\n",
       "      <td>female</td>\n",
       "      <td>0.403869</td>\n",
       "      <td>whitecollar</td>\n",
       "    </tr>\n",
       "    <tr>\n",
       "      <th>6</th>\n",
       "      <td>ACT_4</td>\n",
       "      <td>female</td>\n",
       "      <td>4.640436</td>\n",
       "      <td>workforce</td>\n",
       "    </tr>\n",
       "    <tr>\n",
       "      <th>1</th>\n",
       "      <td>ACT_1</td>\n",
       "      <td>male</td>\n",
       "      <td>62.019382</td>\n",
       "      <td>whitecollar</td>\n",
       "    </tr>\n",
       "  </tbody>\n",
       "</table>\n",
       "</div>"
      ],
      "text/plain": [
       "   activity  gender  time_spent         type\n",
       "16    ACT_9  female   81.854336  whitecollar\n",
       "15    ACT_8    male   17.790561    workforce\n",
       "8     ACT_5  female    0.100376    workforce\n",
       "16    ACT_9  female   82.482155    workforce\n",
       "10    ACT_6  female    0.276222  whitecollar\n",
       "6     ACT_4  female    3.278013  whitecollar\n",
       "8     ACT_5  female    0.104870  whitecollar\n",
       "2     ACT_2  female    0.403869  whitecollar\n",
       "6     ACT_4  female    4.640436    workforce\n",
       "1     ACT_1    male   62.019382  whitecollar"
      ]
     },
     "execution_count": 18,
     "metadata": {},
     "output_type": "execute_result"
    }
   ],
   "source": [
    "worktime = pd.concat([wcts, wfts], axis=0)\n",
    "worktime.sample(10)"
   ]
  },
  {
   "cell_type": "code",
   "execution_count": 19,
   "id": "23ea9233-cc6b-40a8-8571-12a1af3358d2",
   "metadata": {
    "tags": []
   },
   "outputs": [],
   "source": [
    "data_to_plot = worktime[~worktime['activity'].isin(['ACT_9', 'ACT_2', 'ACT_5', 'ACT_6'])]"
   ]
  },
  {
   "cell_type": "code",
   "execution_count": 21,
   "id": "4bd8b1ba-53e4-4dec-bc04-cafe765c0399",
   "metadata": {
    "tags": []
   },
   "outputs": [],
   "source": [
    "labels = {\n",
    "    \"ACT_1\": \"Employment / Paid Work\",\n",
    "    \"ACT_3\": \"Unpaid Domestic Services for Family\",\n",
    "    \"ACT_4\": \"Unpaid Caregiving for Family\",\n",
    "    \"ACT_7\": \"Socializing / Religious Practice / Community\",\n",
    "    \"ACT_8\": \"Culture / Leisure / Mass-media / Sports\",\n",
    "}"
   ]
  },
  {
   "cell_type": "code",
   "execution_count": 105,
   "id": "c104dce3-5692-4f49-ad37-0fd774de8d20",
   "metadata": {
    "tags": []
   },
   "outputs": [
    {
     "data": {
      "image/png": "[encoded data removed]",
      "text/plain": [
       "<Figure size 1200x400 with 2 Axes>"
      ]
     },
     "metadata": {},
     "output_type": "display_data"
    }
   ],
   "source": [
    "fig, (ax_women, ax_men) = plt.subplots(nrows=1, ncols=2, facecolor='papayawhip', figsize=(12, 4))\n",
    "ax_women.set_facecolor('papayawhip')\n",
    "ax_men.set_facecolor('papayawhip')\n",
    "\n",
    "# sns.barplot(xx.unstack().reset_index(), x=0, y=\"level_0\", hue=\"gender\", ax=ax_wf, palette=['teal', 'maroon'], alpha=0.5,\n",
    "#             order=ORDER)\n",
    "# sns.barplot(yy.unstack().reset_index(), x=0, y=\"level_0\", hue=\"gender\", ax=ax_wc, palette=['teal', 'maroon'], alpha=0.5,\n",
    "#             order=ORDER)\n",
    "women_general = worktime[worktime['gender'] == 'female']\n",
    "women_general_time = women_general[women_general['type'] == 'workforce'].set_index('activity').loc[labels.keys()]['time_spent']\n",
    "women_skilled_time = women_general[women_general['type'] == 'whitecollar'].set_index('activity').loc[labels.keys()]['time_spent']\n",
    "ax_women.scatter(women_general_time, range(len(labels)), s=80, alpha=0.7, color='maroon', label='General Workforce')\n",
    "ax_women.scatter(women_skilled_time, range(len(labels)), s=80, alpha=0.7, color='teal', label=\"White Collar Jobs\")\n",
    "ax_women.hlines(range(len(labels)),\n",
    "                [min(a, b) for a, b in zip(women_general_time, women_skilled_time)],\n",
    "                [max(a, b) for a, b in zip(women_general_time, women_skilled_time)],\n",
    "               linestyle='dashed', lw=1, color=\"#8FA9B4\", alpha=0.5)\n",
    "men_general = worktime[worktime['gender'] == 'male']\n",
    "men_general_time = men_general[men_general['type'] == 'workforce'].set_index('activity').loc[labels.keys()]['time_spent']\n",
    "men_skilled_time = men_general[men_general['type'] == 'whitecollar'].set_index('activity').loc[labels.keys()]['time_spent']\n",
    "ax_men.scatter(men_general_time, range(len(labels)), s=80, alpha=0.7, color='maroon', label=\"General Workforce\")\n",
    "ax_men.scatter(men_skilled_time, range(len(labels)), s=80, alpha=0.7, color='teal', label=\"White Collar Jobs\")\n",
    "ax_men.hlines(range(len(labels)),\n",
    "                [min(a, b) for a, b in zip(men_general_time, men_skilled_time)],\n",
    "                [max(a, b) for a, b in zip(men_general_time, men_skilled_time)],\n",
    "               linestyle='dashed', lw=1, color='#8FA9B4', alpha=0.5)\n",
    "\n",
    "\n",
    "ax_men.set_yticks(range(len(labels)), labels.values(), ha=\"center\", fontweight=\"bold\")\n",
    "ax_men.tick_params(axis=\"y\", pad=130)\n",
    "ax_men.yaxis.tick_left()\n",
    "ax_women.yaxis.tick_right()\n",
    "ax_women.set_yticks(range(len(labels)), [])\n",
    "ax_women.xaxis.grid(linestyle='dashed')\n",
    "ax_men.xaxis.grid(linestyle='dashed')\n",
    "\n",
    "ax_men.legend(loc=\"lower right\", fontsize=\"x-small\")\n",
    "ax_women.legend(loc=\"lower right\", fontsize=\"x-small\")\n",
    "\n",
    "ax_men.invert_yaxis()\n",
    "ax_women.invert_yaxis()\n",
    "\n",
    "ax_women.set_xlabel('Hours per week', fontweight=\"bold\")\n",
    "ax_men.set_xlabel('Hours per week', fontweight=\"bold\")\n",
    "ax_women.set_title('Women\\'s Time', fontweight=\"bold\", fontsize=\"large\")\n",
    "ax_men.set_title('Men\\'s Time', fontweight=\"bold\", fontsize=\"large\")\n",
    "\n",
    "fig.suptitle('Women in skilled jobs spend ~15 hrs more each week on \"work\"', fontsize=\"x-large\", fontweight=\"bold\", y=1.1)\n",
    "fig.text(0.3, 1, \"(... and they also spend ~13.5 hrs less on household chores)\", fontsize=\"medium\", fontweight=\"bold\")\n",
    "_ = fig.text(0.2, -0.1,\n",
    "         (\"The time women save from chores correlates with the presence of labour saving methods in the respective households.\\n\"\n",
    "          \"Strangely, for men it doesn't matter if they have skilled jobs or not. They spend the same amount of time in every activity category.\"),\n",
    "         fontsize=\"small\", va=\"center\")\n",
    "plt.tight_layout()"
   ]
  },
  {
   "cell_type": "code",
   "execution_count": 30,
   "id": "f9191730-05ca-48f0-934e-b2ca8f02a152",
   "metadata": {
    "tags": []
   },
   "outputs": [
    {
     "data": {
      "text/html": [
       "<div>\n",
       "<style scoped>\n",
       "    .dataframe tbody tr th:only-of-type {\n",
       "        vertical-align: middle;\n",
       "    }\n",
       "\n",
       "    .dataframe tbody tr th {\n",
       "        vertical-align: top;\n",
       "    }\n",
       "\n",
       "    .dataframe thead th {\n",
       "        text-align: right;\n",
       "    }\n",
       "</style>\n",
       "<table border=\"1\" class=\"dataframe\">\n",
       "  <thead>\n",
       "    <tr style=\"text-align: right;\">\n",
       "      <th></th>\n",
       "      <th>gender</th>\n",
       "      <th>time_spent</th>\n",
       "      <th>type</th>\n",
       "    </tr>\n",
       "    <tr>\n",
       "      <th>activity</th>\n",
       "      <th></th>\n",
       "      <th></th>\n",
       "      <th></th>\n",
       "    </tr>\n",
       "  </thead>\n",
       "  <tbody>\n",
       "    <tr>\n",
       "      <th>ACT_1</th>\n",
       "      <td>female</td>\n",
       "      <td>41.727850</td>\n",
       "      <td>workforce</td>\n",
       "    </tr>\n",
       "    <tr>\n",
       "      <th>ACT_3</th>\n",
       "      <td>female</td>\n",
       "      <td>33.222547</td>\n",
       "      <td>workforce</td>\n",
       "    </tr>\n",
       "    <tr>\n",
       "      <th>ACT_4</th>\n",
       "      <td>female</td>\n",
       "      <td>4.640436</td>\n",
       "      <td>workforce</td>\n",
       "    </tr>\n",
       "    <tr>\n",
       "      <th>ACT_7</th>\n",
       "      <td>female</td>\n",
       "      <td>17.644078</td>\n",
       "      <td>workforce</td>\n",
       "    </tr>\n",
       "    <tr>\n",
       "      <th>ACT_8</th>\n",
       "      <td>female</td>\n",
       "      <td>12.820892</td>\n",
       "      <td>workforce</td>\n",
       "    </tr>\n",
       "  </tbody>\n",
       "</table>\n",
       "</div>"
      ],
      "text/plain": [
       "          gender  time_spent       type\n",
       "activity                               \n",
       "ACT_1     female   41.727850  workforce\n",
       "ACT_3     female   33.222547  workforce\n",
       "ACT_4     female    4.640436  workforce\n",
       "ACT_7     female   17.644078  workforce\n",
       "ACT_8     female   12.820892  workforce"
      ]
     },
     "execution_count": 30,
     "metadata": {},
     "output_type": "execute_result"
    }
   ],
   "source": [
    "women_general[women_general['type'] == 'workforce'].set_index('activity').loc[labels.keys()]"
   ]
  },
  {
   "cell_type": "code",
   "execution_count": 171,
   "id": "cc838fb8-4977-4d94-b6c0-e123ef7cc29d",
   "metadata": {
    "tags": []
   },
   "outputs": [
    {
     "name": "stdout",
     "output_type": "stream",
     "text": [
      "              workforce  white-collar\n",
      "religion                             \n",
      "Jainism        0.000939      0.004555\n",
      "others         0.003331      0.002205\n",
      "Buddhism       0.007860      0.008395\n",
      "Sikhism        0.013706      0.014840\n",
      "Christianity   0.028873      0.063271\n",
      "Islam          0.079161      0.040036\n",
      "Hinduism       0.866130      0.866699\n",
      "                      workforce  white-collar\n",
      "social_group                                 \n",
      "scheduled tribe        0.141605      0.050500\n",
      "others                 0.185937      0.413172\n",
      "scheduled caste        0.208161      0.160072\n",
      "other backward class   0.464297      0.376257\n",
      "     workforce  white-collar\n",
      "qrt                         \n",
      "4th   0.202011      0.504215\n",
      "3rd   0.241195      0.190780\n",
      "2nd   0.252754      0.167114\n",
      "1st   0.304040      0.137891\n",
      "                                                    workforce  white-collar\n",
      "energy_cooking                                                             \n",
      "biogas                                               0.000030           NaN\n",
      "charcoal                                             0.000036      0.000078\n",
      "kerosene                                             0.000125      0.000565\n",
      "gobar gas                                            0.000423           NaN\n",
      "electricity (incl. generated by solar or wind p...   0.000694      0.004668\n",
      "other natural gas                                    0.000726      0.003126\n",
      "no cooking arrangement                               0.001072      0.019462\n",
      "coke or coal                                         0.002869      0.001802\n",
      "others                                               0.004904      0.001480\n",
      "dung cake                                            0.012352      0.000811\n",
      "firewood and chips                                   0.358679      0.066572\n",
      "LPG                                                  0.618090      0.901438\n",
      "                         workforce  white-collar\n",
      "energy_lighting                                 \n",
      "other oil                 0.000463      0.000304\n",
      "gas                       0.000512      0.000771\n",
      "no lighting arrangement   0.000513           NaN\n",
      "others                    0.000620      0.000369\n",
      "candle                    0.000663           NaN\n",
      "kerosene                  0.001252           NaN\n",
      "electricity               0.995978      0.998556\n",
      "                          workforce  white-collar\n",
      "washing_type                                     \n",
      "outsourced                 0.006810      0.082703\n",
      "mechanical by hh members   0.103139      0.405249\n",
      "manual by hh members       0.890052      0.512048\n",
      "                          workforce  white-collar\n",
      "sweeping_type                                    \n",
      "outsourced                 0.012809      0.140959\n",
      "mechanical by hh members   0.018394      0.065074\n",
      "manual by hh members       0.968797      0.793967\n",
      "               workforce  white-collar\n",
      "dwelling_unit                         \n",
      "others          0.004740      0.003967\n",
      "hired           0.091468      0.305487\n",
      "owned           0.903759      0.690545\n",
      "                              workforce  white-collar\n",
      "dwelling_unit_structure_type                         \n",
      "kutcha                         0.097617      0.019230\n",
      "semi-pucca                     0.216819      0.069083\n",
      "pucca                          0.685531      0.911687\n",
      "           workforce  white-collar\n",
      "age-group                         \n",
      "<= 20       0.052149      0.021039\n",
      "50-60       0.187979      0.069428\n",
      "20-30       0.201316      0.460418\n",
      "40-50       0.267247      0.160155\n",
      "30-40       0.291309      0.288960\n"
     ]
    }
   ],
   "source": [
    "# What are some factors that enable women to do less unpaid household work?\n",
    "META_COLS = ['religion', 'social_group', 'qrt',\n",
    "             'energy_cooking', 'energy_lighting', 'washing_type', 'sweeping_type',\n",
    "             'dwelling_unit', 'dwelling_unit_structure_type', 'age-group']\n",
    "\n",
    "wf_women = df[df['gender'] == 'female']\n",
    "wc_women = whitecollar[whitecollar['gender'] == 'female']\n",
    "\n",
    "payload = []\n",
    "for COL in META_COLS:\n",
    "    xx = wf_women.groupby(COL).apply(lambda x: x['mult'].sum() / wf_women['mult'].sum()).sort_values()\n",
    "    yy = wc_women.groupby(COL).apply(lambda x: x['mult'].sum() / wc_women['mult'].sum()).sort_values()\n",
    "    xx.name, yy.name = \"workforce\", \"white-collar\"\n",
    "    xdf = pd.concat([xx, yy], axis=1)\n",
    "    print(xdf)\n"
   ]
  },
  {
   "cell_type": "code",
   "execution_count": 170,
   "id": "b33a681f-c638-410b-ac30-cd0e059745c6",
   "metadata": {
    "tags": []
   },
   "outputs": [
    {
     "data": {
      "text/html": [
       "<div>\n",
       "<style scoped>\n",
       "    .dataframe tbody tr th:only-of-type {\n",
       "        vertical-align: middle;\n",
       "    }\n",
       "\n",
       "    .dataframe tbody tr th {\n",
       "        vertical-align: top;\n",
       "    }\n",
       "\n",
       "    .dataframe thead th {\n",
       "        text-align: right;\n",
       "    }\n",
       "</style>\n",
       "<table border=\"1\" class=\"dataframe\">\n",
       "  <thead>\n",
       "    <tr style=\"text-align: right;\">\n",
       "      <th></th>\n",
       "      <th>workforce</th>\n",
       "      <th>white-collar</th>\n",
       "    </tr>\n",
       "    <tr>\n",
       "      <th>sweeping_type</th>\n",
       "      <th></th>\n",
       "      <th></th>\n",
       "    </tr>\n",
       "  </thead>\n",
       "  <tbody>\n",
       "    <tr>\n",
       "      <th>outsourced</th>\n",
       "      <td>0.012809</td>\n",
       "      <td>0.140959</td>\n",
       "    </tr>\n",
       "    <tr>\n",
       "      <th>mechanical by hh members</th>\n",
       "      <td>0.018394</td>\n",
       "      <td>0.065074</td>\n",
       "    </tr>\n",
       "    <tr>\n",
       "      <th>manual by hh members</th>\n",
       "      <td>0.968797</td>\n",
       "      <td>0.793967</td>\n",
       "    </tr>\n",
       "  </tbody>\n",
       "</table>\n",
       "</div>"
      ],
      "text/plain": [
       "                          workforce  white-collar\n",
       "sweeping_type                                    \n",
       "outsourced                 0.012809      0.140959\n",
       "mechanical by hh members   0.018394      0.065074\n",
       "manual by hh members       0.968797      0.793967"
      ]
     },
     "execution_count": 170,
     "metadata": {},
     "output_type": "execute_result"
    }
   ],
   "source": [
    "xdf"
   ]
  },
  {
   "cell_type": "markdown",
   "id": "0bbcc9ef-966d-42bb-b1cf-091f6d7ff011",
   "metadata": {
    "tags": []
   },
   "source": [
    "1. Half the women in white collar jobs are in the 4th quartile\n",
    "2. LPG presence is 90% in WC jobs"
   ]
  },
  {
   "cell_type": "markdown",
   "id": "420ecb74-4395-419c-839c-65086f6ce501",
   "metadata": {},
   "source": [
    "### How men rest"
   ]
  },
  {
   "cell_type": "code",
   "execution_count": 196,
   "id": "fe3d299f-f332-4ef4-9e29-ff73f283335b",
   "metadata": {
    "tags": []
   },
   "outputs": [],
   "source": [
    "df = pd.read_parquet('../../time-use-survey-2024/clean/per-tus-2024.parquet')\n",
    "\n",
    "men = df[df['gender'] == 'male']\n",
    "men = men[men['age'] >= 15]\n",
    "men = men[men['age'] <= 60]\n",
    "\n",
    "men_rest = men[men['activity_code'].astype(str).str.startswith('9')]"
   ]
  },
  {
   "cell_type": "code",
   "execution_count": 203,
   "id": "4297825c-f2d6-4df9-a4ee-194f8b96f194",
   "metadata": {
    "tags": []
   },
   "outputs": [
    {
     "name": "stderr",
     "output_type": "stream",
     "text": [
      "/tmp/ipykernel_20306/129871678.py:12: SettingWithCopyWarning: \n",
      "A value is trying to be set on a copy of a slice from a DataFrame.\n",
      "Try using .loc[row_indexer,col_indexer] = value instead\n",
      "\n",
      "See the caveats in the documentation: https://pandas.pydata.org/pandas-docs/stable/user_guide/indexing.html#returning-a-view-versus-a-copy\n",
      "  men_rest['ts'] = men_rest[['time_from', 'time_to']].apply(lambda x: get_time_spent(**x), axis=1)\n",
      "/tmp/ipykernel_20306/129871678.py:13: SettingWithCopyWarning: \n",
      "A value is trying to be set on a copy of a slice from a DataFrame.\n",
      "Try using .loc[row_indexer,col_indexer] = value instead\n",
      "\n",
      "See the caveats in the documentation: https://pandas.pydata.org/pandas-docs/stable/user_guide/indexing.html#returning-a-view-versus-a-copy\n",
      "  men_rest['activity_code'] = men_rest['activity_code'].astype(int).astype(str)\n"
     ]
    }
   ],
   "source": [
    "def get_time_spent(time_from, time_to):\n",
    "    if time_from == time_to:\n",
    "        return 24 * 60\n",
    "    start_hour, start_min = map(int, time_from.split(':'))\n",
    "    end_hour, end_min = map(int, time_to.split(':'))\n",
    "    minutes = end_hour * 60 + end_min - start_hour * 60 - start_min\n",
    "    if minutes > 0:\n",
    "        return minutes\n",
    "    return 24 * 60 + minutes\n",
    "\n",
    "\n",
    "men_rest['ts'] = men_rest[['time_from', 'time_to']].apply(lambda x: get_time_spent(**x), axis=1)\n",
    "men_rest['activity_code'] = men_rest['activity_code'].astype(int).astype(str)\n",
    "resting_time = men_rest.groupby([men_rest.index, 'activity_code'])['ts'].sum()"
   ]
  },
  {
   "cell_type": "code",
   "execution_count": 204,
   "id": "06ced59f-1608-4658-8445-65c8f4db1a88",
   "metadata": {
    "tags": []
   },
   "outputs": [],
   "source": [
    "resting_time = resting_time.unstack()\n",
    "resting_time.columns = [f'ACT_{col}' for col in resting_time]\n",
    "resting_time.index = pd.MultiIndex.from_tuples(resting_time.index, names=df.index.names)"
   ]
  },
  {
   "cell_type": "code",
   "execution_count": 206,
   "id": "941bfe00-f203-4319-a7ac-50ac568da54a",
   "metadata": {
    "tags": []
   },
   "outputs": [],
   "source": [
    "resting_time.fillna(value=0, inplace=True)"
   ]
  },
  {
   "cell_type": "code",
   "execution_count": 209,
   "id": "9bfbdc3f-67b6-47da-9d89-52655f390b70",
   "metadata": {
    "tags": []
   },
   "outputs": [],
   "source": [
    "mult = men_rest['mult'].reset_index().drop_duplicates().set_index(men_rest.index.names, verify_integrity=True)['mult']"
   ]
  },
  {
   "cell_type": "code",
   "execution_count": 210,
   "id": "8c79729c-e53d-4ed8-b0c4-05ef16d1ec8e",
   "metadata": {
    "tags": []
   },
   "outputs": [
    {
     "data": {
      "text/plain": [
       "fsu_serial_no  sample_hh_no  person_serial_no\n",
       "32223          1             1                   67243\n",
       "               3             2                   67243\n",
       "               4             1                   67243\n",
       "               5             1                   67243\n",
       "                             3                   67243\n",
       "                                                 ...  \n",
       "60861          9             1                    2877\n",
       "                             2                    2877\n",
       "               10            1                    2877\n",
       "               13            1                    2877\n",
       "               14            1                    2877\n",
       "Name: mult, Length: 170009, dtype: int64"
      ]
     },
     "execution_count": 210,
     "metadata": {},
     "output_type": "execute_result"
    }
   ],
   "source": [
    "mult"
   ]
  },
  {
   "cell_type": "code",
   "execution_count": 224,
   "id": "c36e6847-878d-40cf-a5e1-1e343fd5d488",
   "metadata": {
    "tags": []
   },
   "outputs": [],
   "source": [
    "avg_rest = pd.Series((resting_time.values * mult.values.reshape(-1, 1)).sum(axis=0) / mult.sum(), index=resting_time.columns)"
   ]
  },
  {
   "cell_type": "code",
   "execution_count": 225,
   "id": "979f5a61-9cca-477d-9c14-83ada78e60fa",
   "metadata": {
    "tags": []
   },
   "outputs": [],
   "source": [
    "avg_rest = avg_rest * 7 / 60"
   ]
  },
  {
   "cell_type": "code",
   "execution_count": 226,
   "id": "67634717-4820-4735-8e14-8a9f1acf105c",
   "metadata": {
    "tags": []
   },
   "outputs": [],
   "source": [
    "labels = {\n",
    "    91: \"Sleep\",\n",
    "    92: \"Eating & Drinking\",\n",
    "    93: \"Personal Hygiene and Care\",\n",
    "    94: \"Receiving Personal Care\",\n",
    "    95: \"Travel for Self-Care\",\n",
    "    99: \"Other Self-Care\"\n",
    "}\n",
    "avg_rest = avg_rest.reset_index()\n",
    "avg_rest['labels'] = avg_rest['index'].apply(lambda x: labels[int(x.split('_')[-1][:2])])"
   ]
  },
  {
   "cell_type": "code",
   "execution_count": 229,
   "id": "6b5c369e-e965-4150-85a0-e55e92f1d76c",
   "metadata": {
    "tags": []
   },
   "outputs": [],
   "source": [
    "avg_rest.groupby('labels')[0].sum().to_clipboard()"
   ]
  },
  {
   "cell_type": "code",
   "execution_count": null,
   "id": "d2585d08-205e-492b-99e6-f3938a7f150d",
   "metadata": {},
   "outputs": [],
   "source": []
  }
 ],
 "metadata": {
  "kernelspec": {
   "display_name": "Python 3 (ipykernel)",
   "language": "python",
   "name": "python3"
  },
  "language_info": {
   "codemirror_mode": {
    "name": "ipython",
    "version": 3
   },
   "file_extension": ".py",
   "mimetype": "text/x-python",
   "name": "python",
   "nbconvert_exporter": "python",
   "pygments_lexer": "ipython3",
   "version": "3.9.18"
  }
 },
 "nbformat": 4,
 "nbformat_minor": 5
}
